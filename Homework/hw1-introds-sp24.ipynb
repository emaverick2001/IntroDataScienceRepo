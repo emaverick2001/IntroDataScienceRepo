{
 "cells": [
  {
   "cell_type": "markdown",
   "metadata": {},
   "source": [
    "# Homework 1\n",
    "You should have downloaded the following files as well:\n",
    "1. matrix.csv\n",
    "2. stocks.csv\n",
    "\n",
    "Goal: Practice basic usage of jupyter notebook, numpy, scipy, pandas, and matplotlib. \n",
    "\n",
    "If you are unfamiliar with how to use certain functions, look up the documentation online. This skill will be very useful, in general. Alternatively, seek help from your TAs."
   ]
  },
  {
   "cell_type": "markdown",
   "metadata": {},
   "source": [
    "## 1 Basic numpy\n",
    "### 1.1 Load data with numpy\n",
    "[1 pt] load \"matrix.csv\" as a numpy array named $\\texttt{data}$. The imported array should be 20 rows by 3 columns. (Hint: You can use np.loadtxt(), make sure to specify correct delimiter argument.)"
   ]
  },
  {
   "cell_type": "code",
   "execution_count": 2,
   "metadata": {},
   "outputs": [],
   "source": [
    "import numpy as np\n",
    "data = np.loadtxt(\"matrix.csv\", delimiter=',')"
   ]
  },
  {
   "cell_type": "markdown",
   "metadata": {},
   "source": [
    "### 1.2 Row sum\n",
    "1. [1 pt] Define array $\\texttt{rowsum}$ where each entry represents the row sum of matrix. Print $\\texttt{rowsum}$. (hint: use np.sum() function, make sure to use the correct axis)"
   ]
  },
  {
   "cell_type": "code",
   "execution_count": 3,
   "metadata": {},
   "outputs": [
    {
     "name": "stdout",
     "output_type": "stream",
     "text": [
      "[ 0.4844172  -2.50909969  1.30264396 -0.84740315  0.42729788 -2.15017789\n",
      " -0.47559022  2.54880877  0.09423786 -0.67330205 -1.77558698 -1.52911637\n",
      "  0.77690753 -0.33742036  0.99610406  1.65417497  1.03753238 -1.84411077\n",
      "  1.21671237  2.10183057]\n"
     ]
    }
   ],
   "source": [
    "rowsum = np.sum(data, axis=1)\n",
    "print(rowsum)"
   ]
  },
  {
   "cell_type": "markdown",
   "metadata": {},
   "source": [
    "2. [1 pt] Define array, $\\texttt{idx}$, containing indices of rowsum that have values greater than 1. Print $\\texttt{idx}$. (hint: use np.where() function)"
   ]
  },
  {
   "cell_type": "code",
   "execution_count": 4,
   "metadata": {},
   "outputs": [
    {
     "name": "stdout",
     "output_type": "stream",
     "text": [
      "(array([ 2,  7, 15, 16, 18, 19]),)\n"
     ]
    }
   ],
   "source": [
    "idx = np.where(rowsum > 1)\n",
    "print(idx)"
   ]
  },
  {
   "cell_type": "markdown",
   "metadata": {},
   "source": [
    "### 1.3 Compute length\n",
    "Now, view each row of the 20 by 3 array as a vector in $\\mathbb{R}^3$.\n",
    "\n",
    "[1 pt] Find the (Euclidean) length of vector (i.e., each row), store it as $\\texttt{distances}$. Print the $\\texttt{distances}$. (You may compute it via formula or use numpy functions, in which case be careful you use the right arguments). "
   ]
  },
  {
   "cell_type": "code",
   "execution_count": 13,
   "metadata": {},
   "outputs": [
    {
     "name": "stdout",
     "output_type": "stream",
     "text": [
      "(20, 3)\n",
      "Row data:  [ 1.62434536 -0.61175641 -0.52817175]\n",
      "Row data:  [-1.07296862  0.86540763 -2.3015387 ]\n",
      "Row data:  [ 1.74481176 -0.7612069   0.3190391 ]\n",
      "Row data:  [-0.24937038  1.46210794 -2.06014071]\n",
      "Row data:  [-0.3224172  -0.38405435  1.13376944]\n",
      "Row data:  [-1.09989127 -0.17242821 -0.87785842]\n",
      "Row data:  [ 0.04221375  0.58281521 -1.10061918]\n",
      "Row data:  [1.14472371 0.90159072 0.50249434]\n",
      "Row data:  [ 0.90085595 -0.68372786 -0.12289023]\n",
      "Row data:  [-0.93576943 -0.26788808  0.53035547]\n",
      "Row data:  [-0.69166075 -0.39675353 -0.6871727 ]\n",
      "Row data:  [-0.84520564 -0.67124613 -0.0126646 ]\n",
      "Row data:  [-1.11731035  0.2344157   1.65980218]\n",
      "Row data:  [ 0.74204416 -0.19183555 -0.88762896]\n",
      "Row data:  [-0.74715829  1.6924546   0.05080775]\n",
      "Row data:  [-0.63699565  0.19091548  2.10025514]\n",
      "Row data:  [0.12015895 0.61720311 0.30017032]\n",
      "Row data:  [-0.35224985 -1.1425182  -0.34934272]\n",
      "Row data:  [-0.20889423  0.58662319  0.83898341]\n",
      "Row data:  [0.93110208 0.28558733 0.88514116]\n",
      "[1.8143068  2.68277327 1.93017874 2.53852811 1.23971116 1.41778972\n",
      " 1.24612124 1.54134966 1.13759713 1.10846984 1.05262257 1.07939999\n",
      " 2.01451642 1.1727385  1.85073756 2.20301698 0.696764   1.24557943\n",
      " 1.04482378 1.31604942]\n",
      "(20,)\n"
     ]
    }
   ],
   "source": [
    "distances = np.array([]) # empty array\n",
    "print(data.shape)\n",
    "for row in data:\n",
    "    print(\"Row data: \",row)\n",
    "    distances = np.append(distances,np.linalg.norm(row))\n",
    "print(distances)\n",
    "print(distances.shape)\n",
    "# len(distances)\n"
   ]
  },
  {
   "cell_type": "markdown",
   "metadata": {},
   "source": [
    "### 1.4 Plot histogram\n",
    "Definition: A _density histogram_ is a histogram that is normalized so that the total area under the bars sums to unity. \n",
    "\n",
    "[2 pt] Using matplotlib, plot a density histogram of the length of vectors. Make your bins between 0.5 to 3.0, with increments of 0.5. (So, you should have 5 bins)"
   ]
  },
  {
   "cell_type": "code",
   "execution_count": 6,
   "metadata": {},
   "outputs": [
    {
     "data": {
      "text/plain": [
       "(array([0.1, 1.1, 0.4, 0.2, 0.2]),\n",
       " array([0.5, 1. , 1.5, 2. , 2.5, 3. ]),\n",
       " <BarContainer object of 5 artists>)"
      ]
     },
     "execution_count": 6,
     "metadata": {},
     "output_type": "execute_result"
    },
    {
     "data": {
      "image/png": "[encoded data removed]",
      "text/plain": [
       "<Figure size 640x480 with 1 Axes>"
      ]
     },
     "metadata": {},
     "output_type": "display_data"
    }
   ],
   "source": [
    "import matplotlib.pyplot as plt\n",
    "plt.hist(distances, np.arange(0.5,3.5,0.5), density= True)\n"
   ]
  },
  {
   "cell_type": "markdown",
   "metadata": {},
   "source": [
    "## 2 Sampling and statistics: stock returns\n",
    "### 2.1 Load data with pandas\n",
    "1. [1 pt] **Using pandas**, load \"stocks.csv\" on monthly stock returns from 1926 to 2021 ([source](https://mba.tuck.dartmouth.edu/pages/faculty/ken.french/data_library.html)) as $\\texttt{stocks}$. (Hint: use the pandas read_csv() function)\n",
    "2. [1 pt] Define numpy array $\\texttt{ret}$ as the values of the \"Mkt-RF\" column in the dataset. (Hint: use the .values method.)"
   ]
  },
  {
   "cell_type": "code",
   "execution_count": 26,
   "metadata": {},
   "outputs": [
    {
     "data": {
      "text/html": [
       "<div>\n",
       "<style scoped>\n",
       "    .dataframe tbody tr th:only-of-type {\n",
       "        vertical-align: middle;\n",
       "    }\n",
       "\n",
       "    .dataframe tbody tr th {\n",
       "        vertical-align: top;\n",
       "    }\n",
       "\n",
       "    .dataframe thead th {\n",
       "        text-align: right;\n",
       "    }\n",
       "</style>\n",
       "<table border=\"1\" class=\"dataframe\">\n",
       "  <thead>\n",
       "    <tr style=\"text-align: right;\">\n",
       "      <th></th>\n",
       "      <th>Mkt-RF</th>\n",
       "      <th>SMB</th>\n",
       "      <th>HML</th>\n",
       "      <th>RF</th>\n",
       "    </tr>\n",
       "  </thead>\n",
       "  <tbody>\n",
       "    <tr>\n",
       "      <th>0</th>\n",
       "      <td>2.96</td>\n",
       "      <td>-2.56</td>\n",
       "      <td>-2.43</td>\n",
       "      <td>0.22</td>\n",
       "    </tr>\n",
       "    <tr>\n",
       "      <th>1</th>\n",
       "      <td>2.64</td>\n",
       "      <td>-1.17</td>\n",
       "      <td>3.82</td>\n",
       "      <td>0.25</td>\n",
       "    </tr>\n",
       "    <tr>\n",
       "      <th>2</th>\n",
       "      <td>0.36</td>\n",
       "      <td>-1.40</td>\n",
       "      <td>0.13</td>\n",
       "      <td>0.23</td>\n",
       "    </tr>\n",
       "    <tr>\n",
       "      <th>3</th>\n",
       "      <td>-3.24</td>\n",
       "      <td>-0.09</td>\n",
       "      <td>0.70</td>\n",
       "      <td>0.32</td>\n",
       "    </tr>\n",
       "    <tr>\n",
       "      <th>4</th>\n",
       "      <td>2.53</td>\n",
       "      <td>-0.10</td>\n",
       "      <td>-0.51</td>\n",
       "      <td>0.31</td>\n",
       "    </tr>\n",
       "    <tr>\n",
       "      <th>...</th>\n",
       "      <td>...</td>\n",
       "      <td>...</td>\n",
       "      <td>...</td>\n",
       "      <td>...</td>\n",
       "    </tr>\n",
       "    <tr>\n",
       "      <th>1160</th>\n",
       "      <td>2.51</td>\n",
       "      <td>-5.51</td>\n",
       "      <td>-8.85</td>\n",
       "      <td>0.36</td>\n",
       "    </tr>\n",
       "    <tr>\n",
       "      <th>1161</th>\n",
       "      <td>0.61</td>\n",
       "      <td>-3.35</td>\n",
       "      <td>-0.04</td>\n",
       "      <td>0.35</td>\n",
       "    </tr>\n",
       "    <tr>\n",
       "      <th>1162</th>\n",
       "      <td>0.35</td>\n",
       "      <td>1.61</td>\n",
       "      <td>-7.72</td>\n",
       "      <td>0.36</td>\n",
       "    </tr>\n",
       "    <tr>\n",
       "      <th>1163</th>\n",
       "      <td>6.46</td>\n",
       "      <td>1.54</td>\n",
       "      <td>-0.26</td>\n",
       "      <td>0.40</td>\n",
       "    </tr>\n",
       "    <tr>\n",
       "      <th>1164</th>\n",
       "      <td>3.21</td>\n",
       "      <td>2.07</td>\n",
       "      <td>4.13</td>\n",
       "      <td>0.45</td>\n",
       "    </tr>\n",
       "  </tbody>\n",
       "</table>\n",
       "<p>1165 rows × 4 columns</p>\n",
       "</div>"
      ],
      "text/plain": [
       "      Mkt-RF   SMB   HML    RF\n",
       "0       2.96 -2.56 -2.43  0.22\n",
       "1       2.64 -1.17  3.82  0.25\n",
       "2       0.36 -1.40  0.13  0.23\n",
       "3      -3.24 -0.09  0.70  0.32\n",
       "4       2.53 -0.10 -0.51  0.31\n",
       "...      ...   ...   ...   ...\n",
       "1160    2.51 -5.51 -8.85  0.36\n",
       "1161    0.61 -3.35 -0.04  0.35\n",
       "1162    0.35  1.61 -7.72  0.36\n",
       "1163    6.46  1.54 -0.26  0.40\n",
       "1164    3.21  2.07  4.13  0.45\n",
       "\n",
       "[1165 rows x 4 columns]"
      ]
     },
     "metadata": {},
     "output_type": "display_data"
    },
    {
     "name": "stdout",
     "output_type": "stream",
     "text": [
      "(1165,)\n",
      "[[2.96]\n",
      " [2.64]\n",
      " [0.36]\n",
      " ...\n",
      " [0.35]\n",
      " [6.46]\n",
      " [3.21]]\n",
      "(1165, 1)\n"
     ]
    }
   ],
   "source": [
    "import pandas as pd\n",
    "\n",
    "stocks = pd.read_csv(\"stocks.csv\")\n",
    "display(stocks)\n",
    "ret = stocks[\"Mkt-RF\"].values\n",
    "print(ret.shape)\n",
    "ret = ret.reshape(-1,1)\n",
    "print(ret)\n",
    "print(ret.shape)"
   ]
  },
  {
   "cell_type": "markdown",
   "metadata": {},
   "source": [
    "### 2.2 Compute mean and std\n",
    "1. [1 pt] Define $\\texttt{n}$ as the number of entries/length of $\\texttt{ret}$. You must use some function which extracts the length or shape of $\\texttt{ret}$, i.e., not manually counting it.\n",
    "2. [1 pt] Define $\\texttt{ret\\_mean}$ as the mean of $\\texttt{ret}$.\n",
    "3. [1 pt] Define $\\texttt{ret\\_std}$ as the unbiased estimate of standard deviation of $\\texttt{ret}$.\n",
    "\n",
    "(You can use numpy or scipy functions to compute them. Unbiased estimates of std will affect degree of freedom argument.)"
   ]
  },
  {
   "cell_type": "code",
   "execution_count": 8,
   "metadata": {},
   "outputs": [
    {
     "name": "stdout",
     "output_type": "stream",
     "text": [
      "1165\n",
      "0.6785064377682404\n",
      "5.344533755747503\n"
     ]
    }
   ],
   "source": [
    "import numpy as np\n",
    "\n",
    "n = ret.size\n",
    "print(n)\n",
    "ret_mean = ret.mean()\n",
    "print(ret_mean)\n",
    "ret_std = np.std(ret, ddof=1)\n",
    "print(ret_std)"
   ]
  },
  {
   "cell_type": "markdown",
   "metadata": {},
   "source": [
    "### 2.3 Plot histogram\n",
    "1. [2 pts] Plot a density histogram of the returns $\\texttt{ret}$ with 100 equispaced bins from -30 to +40.\n",
    "\n",
    "2. [2 pts] On the same axes/figure, plot the PDF of a normal distribution over the histogram, with\n",
    "- mean equal to $\\texttt{ret\\_mean}$ and \n",
    "- standard deviation equal to $\\texttt{ret\\_std}$ \n",
    "\n",
    "(Hint: you can use scipy stats norm.pdf() function to help you)"
   ]
  },
  {
   "cell_type": "code",
   "execution_count": 9,
   "metadata": {},
   "outputs": [
    {
     "data": {
      "image/png": "[encoded data removed]",
      "text/plain": [
       "<Figure size 640x480 with 1 Axes>"
      ]
     },
     "metadata": {},
     "output_type": "display_data"
    }
   ],
   "source": [
    "import matplotlib.pyplot as plt\n",
    "from scipy.stats import norm\n",
    "\n",
    "# Plot the density histogram\n",
    "plt.hist(ret, bins=100, range=(-30, 40), density=True, label='Density Histogram')\n",
    "\n",
    "# Set the labels and title\n",
    "plt.xlabel('Returns')\n",
    "plt.ylabel('Density')\n",
    "plt.title('Density Histogram of Returns')\n",
    "\n",
    "# Generate x values for the normal distribution PDF\n",
    "x = np.linspace(-30, 40, 100)\n",
    "\n",
    "# Compute the y vals of the normal distribution PDF based on x\n",
    "y = norm.pdf(x,ret_mean,ret_std)\n",
    "\n",
    "# Plot the PDF of the normal distribution\n",
    "plt.plot(x, y, 'r', label='Normal Distribution PDF')\n",
    "\n",
    "# Show the legend\n",
    "plt.legend()\n",
    "# Show the plot\n",
    "plt.show()\n"
   ]
  },
  {
   "cell_type": "markdown",
   "metadata": {},
   "source": [
    "### 2.4 Skew and Kurtosis of ret\n",
    "[2 pt] What is the unbiased skew and kurtosis of $\\texttt{ret}$? Compute and print them to 5 decimal places. (You may use scipy.stats skew and kurtosis functions.)\n",
    "\n"
   ]
  },
  {
   "cell_type": "code",
   "execution_count": 10,
   "metadata": {},
   "outputs": [
    {
     "name": "stdout",
     "output_type": "stream",
     "text": [
      "Skewness: 0.15628\n",
      "Kurtosis: 7.45038\n"
     ]
    }
   ],
   "source": [
    "from scipy.stats import skew, kurtosis\n",
    "print(\"Skewness: %.5f\" % skew(ret,bias=False))\n",
    "print(\"Kurtosis: %.5f\" % kurtosis(ret,bias=False))\n",
    "\n"
   ]
  },
  {
   "cell_type": "markdown",
   "metadata": {},
   "source": [
    "### 2.5 Generate data from normal distribution\n",
    "[1 pt] Repeat the following 10 times with a for-loop:\n",
    "\n",
    "1. [1 pt] Generate $n$ samples from the univariate normal distribution, storing it as $\\texttt{sim\\_data}$ with \n",
    "- mean equal $\\texttt{ret\\_mean}$ \n",
    "- standard deviation equal $\\texttt{ret\\_std}$\n",
    "- random_state equal to the index $\\texttt{i}$ of the for-loop\n",
    "\n",
    "(You can use norm.rvs() function.)\n",
    "\n",
    "2. [1 pt] What is the unbiased skew and kurtosis of these samples $\\texttt{sim\\_data}$? Print them to 5 decimal places, like in the previous part."
   ]
  },
  {
   "cell_type": "code",
   "execution_count": 11,
   "metadata": {},
   "outputs": [
    {
     "name": "stdout",
     "output_type": "stream",
     "text": [
      "Skewness: nan\n",
      "Kurtosis: nan\n",
      "Skewness: 0.00000\n",
      "Kurtosis: -2.00000\n",
      "Skewness: -1.70657\n",
      "Kurtosis: -1.50000\n",
      "Skewness: -1.97320\n",
      "Kurtosis: 3.90559\n",
      "Skewness: -0.70222\n",
      "Kurtosis: -2.68098\n",
      "Skewness: -0.29938\n",
      "Kurtosis: -2.39056\n",
      "Skewness: 0.10980\n",
      "Kurtosis: -2.44367\n",
      "Skewness: -0.22003\n",
      "Kurtosis: -2.32146\n",
      "Skewness: 0.05358\n",
      "Kurtosis: -2.24734\n",
      "Skewness: 0.27993\n",
      "Kurtosis: -2.08573\n"
     ]
    }
   ],
   "source": [
    "sim_data = np.array([])\n",
    "for i in range(10):\n",
    "    sim_data = np.append(sim_data, norm.rvs(ret_mean, ret_std, random_state=i))\n",
    "    print(\"Skewness: %.5f\" % skew(sim_data, bias=False))\n",
    "    print(\"Kurtosis: %.5f\" % kurtosis(sim_data, bias=False))\n",
    "\n",
    "\n"
   ]
  },
  {
   "cell_type": "markdown",
   "metadata": {},
   "source": [
    "### 2.6 Discuss if ret data is normally distributed\n",
    "[2 pt] Explain in what ways the stock returns do not resemble a normal distribution. Your response should compare skew and kurtosis you computed and the plots you generated in the previous parts.\n",
    "\n",
    "**Ans:** The graph generated in part 2.3 relating to the stock returns appears to be leptokurtic (kurtosis = 7.45038) with thicker tails and higher sharper peaks when compared to a normal distribution which is symmetric,has a skew of 0, and a kurtosis of 3. Since the unbiased skew value is greater than zero (skew = 0.15628), the data is spread out more to the right in relation to a normal distribution."
   ]
  },
  {
   "cell_type": "markdown",
   "metadata": {},
   "source": []
  }
 ],
 "metadata": {
  "kernelspec": {
   "display_name": "base",
   "language": "python",
   "name": "python3"
  },
  "language_info": {
   "codemirror_mode": {
    "name": "ipython",
    "version": 3
   },
   "file_extension": ".py",
   "mimetype": "text/x-python",
   "name": "python",
   "nbconvert_exporter": "python",
   "pygments_lexer": "ipython3",
   "version": "3.11.5"
  },
  "orig_nbformat": 4
 },
 "nbformat": 4,
 "nbformat_minor": 2
}
