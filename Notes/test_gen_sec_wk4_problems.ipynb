import numpy as np
from sklearn.decomposition import PCA

# Generate test data
np.random.seed(0)
X = np.random.rand(100, 5)  # 100 samples with 5 features

# Manual PCA implementation
def manual_pca(X, n_components):
    # Center the data
    X_centered = X - np.mean(X, axis=0)
    
    # Compute the covariance matrix
    cov_matrix = np.cov(X_centered.T)
    
    # Compute the eigenvalues and eigenvectors
    eigenvalues, eigenvectors = np.linalg.eig(cov_matrix)
    
    # Sort the eigenvalues and eigenvectors in descending order
    sorted_indices = np.argsort(eigenvalues)[::-1]
    eigenvalues = eigenvalues[sorted_indices]
    eigenvectors = eigenvectors[:, sorted_indices]
    
    # Select the top n_components eigenvectors
    selected_eigenvectors = eigenvectors[:, :n_components]
    
    # Project the data onto the selected eigenvectors
    transformed_data = np.dot(X_centered, selected_eigenvectors)
    
    return eigenvalues[:n_components], selected_eigenvectors, transformed_data

# Sklearn PCA implementation
sklearn_pca = PCA(n_components=2)
sklearn_transformed_data = sklearn_pca.fit_transform(X)

# Compare eigenvalues
manual_eigenvalues, _, _ = manual_pca(X, n_components=2)
sklearn_eigenvalues = sklearn_pca.explained_variance_

print("Manual Eigenvalues:", manual_eigenvalues)
print("Sklearn Eigenvalues:", sklearn_eigenvalues)

# Compare eigenvectors
_, manual_eigenvectors, _ = manual_pca(X, n_components=2)
sklearn_eigenvectors = sklearn_pca.components_

print("Manual Eigenvectors:")
print(manual_eigenvectors)
print("Sklearn Eigenvectors:")
print(sklearn_eigenvectors)