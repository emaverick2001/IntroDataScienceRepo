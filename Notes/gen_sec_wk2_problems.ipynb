{
 "cells": [
  {
   "cell_type": "markdown",
   "id": "6dbcb1a3",
   "metadata": {},
   "source": [
    "# Section 2 - Descriptive Statistics\n",
    "You should also have downloaded:\n",
    "- stocks.csv"
   ]
  },
  {
   "cell_type": "markdown",
   "id": "f9586d32",
   "metadata": {},
   "source": [
    "## 0 Load and display\n",
    "\n",
    "We load data on monthly stock returns from 1926 to 2021 ([source](https://mba.tuck.dartmouth.edu/pages/faculty/ken.french/data_library.html)) and store it in an $\\texttt{ndarray}$ for you."
   ]
  },
  {
   "cell_type": "code",
   "execution_count": 11,
   "id": "116d7bfe",
   "metadata": {},
   "outputs": [
    {
     "ename": "FileNotFoundError",
     "evalue": "[Errno 2] No such file or directory: 'stocks.csv'",
     "output_type": "error",
     "traceback": [
      "\u001b[0;31m---------------------------------------------------------------------------\u001b[0m",
      "\u001b[0;31mFileNotFoundError\u001b[0m                         Traceback (most recent call last)",
      "Cell \u001b[0;32mIn[11], line 7\u001b[0m\n\u001b[1;32m      4\u001b[0m \u001b[38;5;28;01mimport\u001b[39;00m \u001b[38;5;21;01mpandas\u001b[39;00m \u001b[38;5;28;01mas\u001b[39;00m \u001b[38;5;21;01mpd\u001b[39;00m\n\u001b[1;32m      6\u001b[0m \u001b[38;5;66;03m# Load stock data as pandas DataFrame.\u001b[39;00m\n\u001b[0;32m----> 7\u001b[0m stocks \u001b[38;5;241m=\u001b[39m pd\u001b[38;5;241m.\u001b[39mread_csv(\u001b[38;5;124m\"\u001b[39m\u001b[38;5;124mstocks.csv\u001b[39m\u001b[38;5;124m\"\u001b[39m)\n\u001b[1;32m      8\u001b[0m \u001b[38;5;66;03m# Display DataFrame.\u001b[39;00m\n\u001b[1;32m      9\u001b[0m display(stocks)\n",
      "File \u001b[0;32m~/anaconda3/lib/python3.11/site-packages/pandas/io/parsers/readers.py:912\u001b[0m, in \u001b[0;36mread_csv\u001b[0;34m(filepath_or_buffer, sep, delimiter, header, names, index_col, usecols, dtype, engine, converters, true_values, false_values, skipinitialspace, skiprows, skipfooter, nrows, na_values, keep_default_na, na_filter, verbose, skip_blank_lines, parse_dates, infer_datetime_format, keep_date_col, date_parser, date_format, dayfirst, cache_dates, iterator, chunksize, compression, thousands, decimal, lineterminator, quotechar, quoting, doublequote, escapechar, comment, encoding, encoding_errors, dialect, on_bad_lines, delim_whitespace, low_memory, memory_map, float_precision, storage_options, dtype_backend)\u001b[0m\n\u001b[1;32m    899\u001b[0m kwds_defaults \u001b[38;5;241m=\u001b[39m _refine_defaults_read(\n\u001b[1;32m    900\u001b[0m     dialect,\n\u001b[1;32m    901\u001b[0m     delimiter,\n\u001b[0;32m   (...)\u001b[0m\n\u001b[1;32m    908\u001b[0m     dtype_backend\u001b[38;5;241m=\u001b[39mdtype_backend,\n\u001b[1;32m    909\u001b[0m )\n\u001b[1;32m    910\u001b[0m kwds\u001b[38;5;241m.\u001b[39mupdate(kwds_defaults)\n\u001b[0;32m--> 912\u001b[0m \u001b[38;5;28;01mreturn\u001b[39;00m _read(filepath_or_buffer, kwds)\n",
      "File \u001b[0;32m~/anaconda3/lib/python3.11/site-packages/pandas/io/parsers/readers.py:577\u001b[0m, in \u001b[0;36m_read\u001b[0;34m(filepath_or_buffer, kwds)\u001b[0m\n\u001b[1;32m    574\u001b[0m _validate_names(kwds\u001b[38;5;241m.\u001b[39mget(\u001b[38;5;124m\"\u001b[39m\u001b[38;5;124mnames\u001b[39m\u001b[38;5;124m\"\u001b[39m, \u001b[38;5;28;01mNone\u001b[39;00m))\n\u001b[1;32m    576\u001b[0m \u001b[38;5;66;03m# Create the parser.\u001b[39;00m\n\u001b[0;32m--> 577\u001b[0m parser \u001b[38;5;241m=\u001b[39m TextFileReader(filepath_or_buffer, \u001b[38;5;241m*\u001b[39m\u001b[38;5;241m*\u001b[39mkwds)\n\u001b[1;32m    579\u001b[0m \u001b[38;5;28;01mif\u001b[39;00m chunksize \u001b[38;5;129;01mor\u001b[39;00m iterator:\n\u001b[1;32m    580\u001b[0m     \u001b[38;5;28;01mreturn\u001b[39;00m parser\n",
      "File \u001b[0;32m~/anaconda3/lib/python3.11/site-packages/pandas/io/parsers/readers.py:1407\u001b[0m, in \u001b[0;36mTextFileReader.__init__\u001b[0;34m(self, f, engine, **kwds)\u001b[0m\n\u001b[1;32m   1404\u001b[0m     \u001b[38;5;28mself\u001b[39m\u001b[38;5;241m.\u001b[39moptions[\u001b[38;5;124m\"\u001b[39m\u001b[38;5;124mhas_index_names\u001b[39m\u001b[38;5;124m\"\u001b[39m] \u001b[38;5;241m=\u001b[39m kwds[\u001b[38;5;124m\"\u001b[39m\u001b[38;5;124mhas_index_names\u001b[39m\u001b[38;5;124m\"\u001b[39m]\n\u001b[1;32m   1406\u001b[0m \u001b[38;5;28mself\u001b[39m\u001b[38;5;241m.\u001b[39mhandles: IOHandles \u001b[38;5;241m|\u001b[39m \u001b[38;5;28;01mNone\u001b[39;00m \u001b[38;5;241m=\u001b[39m \u001b[38;5;28;01mNone\u001b[39;00m\n\u001b[0;32m-> 1407\u001b[0m \u001b[38;5;28mself\u001b[39m\u001b[38;5;241m.\u001b[39m_engine \u001b[38;5;241m=\u001b[39m \u001b[38;5;28mself\u001b[39m\u001b[38;5;241m.\u001b[39m_make_engine(f, \u001b[38;5;28mself\u001b[39m\u001b[38;5;241m.\u001b[39mengine)\n",
      "File \u001b[0;32m~/anaconda3/lib/python3.11/site-packages/pandas/io/parsers/readers.py:1661\u001b[0m, in \u001b[0;36mTextFileReader._make_engine\u001b[0;34m(self, f, engine)\u001b[0m\n\u001b[1;32m   1659\u001b[0m     \u001b[38;5;28;01mif\u001b[39;00m \u001b[38;5;124m\"\u001b[39m\u001b[38;5;124mb\u001b[39m\u001b[38;5;124m\"\u001b[39m \u001b[38;5;129;01mnot\u001b[39;00m \u001b[38;5;129;01min\u001b[39;00m mode:\n\u001b[1;32m   1660\u001b[0m         mode \u001b[38;5;241m+\u001b[39m\u001b[38;5;241m=\u001b[39m \u001b[38;5;124m\"\u001b[39m\u001b[38;5;124mb\u001b[39m\u001b[38;5;124m\"\u001b[39m\n\u001b[0;32m-> 1661\u001b[0m \u001b[38;5;28mself\u001b[39m\u001b[38;5;241m.\u001b[39mhandles \u001b[38;5;241m=\u001b[39m get_handle(\n\u001b[1;32m   1662\u001b[0m     f,\n\u001b[1;32m   1663\u001b[0m     mode,\n\u001b[1;32m   1664\u001b[0m     encoding\u001b[38;5;241m=\u001b[39m\u001b[38;5;28mself\u001b[39m\u001b[38;5;241m.\u001b[39moptions\u001b[38;5;241m.\u001b[39mget(\u001b[38;5;124m\"\u001b[39m\u001b[38;5;124mencoding\u001b[39m\u001b[38;5;124m\"\u001b[39m, \u001b[38;5;28;01mNone\u001b[39;00m),\n\u001b[1;32m   1665\u001b[0m     compression\u001b[38;5;241m=\u001b[39m\u001b[38;5;28mself\u001b[39m\u001b[38;5;241m.\u001b[39moptions\u001b[38;5;241m.\u001b[39mget(\u001b[38;5;124m\"\u001b[39m\u001b[38;5;124mcompression\u001b[39m\u001b[38;5;124m\"\u001b[39m, \u001b[38;5;28;01mNone\u001b[39;00m),\n\u001b[1;32m   1666\u001b[0m     memory_map\u001b[38;5;241m=\u001b[39m\u001b[38;5;28mself\u001b[39m\u001b[38;5;241m.\u001b[39moptions\u001b[38;5;241m.\u001b[39mget(\u001b[38;5;124m\"\u001b[39m\u001b[38;5;124mmemory_map\u001b[39m\u001b[38;5;124m\"\u001b[39m, \u001b[38;5;28;01mFalse\u001b[39;00m),\n\u001b[1;32m   1667\u001b[0m     is_text\u001b[38;5;241m=\u001b[39mis_text,\n\u001b[1;32m   1668\u001b[0m     errors\u001b[38;5;241m=\u001b[39m\u001b[38;5;28mself\u001b[39m\u001b[38;5;241m.\u001b[39moptions\u001b[38;5;241m.\u001b[39mget(\u001b[38;5;124m\"\u001b[39m\u001b[38;5;124mencoding_errors\u001b[39m\u001b[38;5;124m\"\u001b[39m, \u001b[38;5;124m\"\u001b[39m\u001b[38;5;124mstrict\u001b[39m\u001b[38;5;124m\"\u001b[39m),\n\u001b[1;32m   1669\u001b[0m     storage_options\u001b[38;5;241m=\u001b[39m\u001b[38;5;28mself\u001b[39m\u001b[38;5;241m.\u001b[39moptions\u001b[38;5;241m.\u001b[39mget(\u001b[38;5;124m\"\u001b[39m\u001b[38;5;124mstorage_options\u001b[39m\u001b[38;5;124m\"\u001b[39m, \u001b[38;5;28;01mNone\u001b[39;00m),\n\u001b[1;32m   1670\u001b[0m )\n\u001b[1;32m   1671\u001b[0m \u001b[38;5;28;01massert\u001b[39;00m \u001b[38;5;28mself\u001b[39m\u001b[38;5;241m.\u001b[39mhandles \u001b[38;5;129;01mis\u001b[39;00m \u001b[38;5;129;01mnot\u001b[39;00m \u001b[38;5;28;01mNone\u001b[39;00m\n\u001b[1;32m   1672\u001b[0m f \u001b[38;5;241m=\u001b[39m \u001b[38;5;28mself\u001b[39m\u001b[38;5;241m.\u001b[39mhandles\u001b[38;5;241m.\u001b[39mhandle\n",
      "File \u001b[0;32m~/anaconda3/lib/python3.11/site-packages/pandas/io/common.py:859\u001b[0m, in \u001b[0;36mget_handle\u001b[0;34m(path_or_buf, mode, encoding, compression, memory_map, is_text, errors, storage_options)\u001b[0m\n\u001b[1;32m    854\u001b[0m \u001b[38;5;28;01melif\u001b[39;00m \u001b[38;5;28misinstance\u001b[39m(handle, \u001b[38;5;28mstr\u001b[39m):\n\u001b[1;32m    855\u001b[0m     \u001b[38;5;66;03m# Check whether the filename is to be opened in binary mode.\u001b[39;00m\n\u001b[1;32m    856\u001b[0m     \u001b[38;5;66;03m# Binary mode does not support 'encoding' and 'newline'.\u001b[39;00m\n\u001b[1;32m    857\u001b[0m     \u001b[38;5;28;01mif\u001b[39;00m ioargs\u001b[38;5;241m.\u001b[39mencoding \u001b[38;5;129;01mand\u001b[39;00m \u001b[38;5;124m\"\u001b[39m\u001b[38;5;124mb\u001b[39m\u001b[38;5;124m\"\u001b[39m \u001b[38;5;129;01mnot\u001b[39;00m \u001b[38;5;129;01min\u001b[39;00m ioargs\u001b[38;5;241m.\u001b[39mmode:\n\u001b[1;32m    858\u001b[0m         \u001b[38;5;66;03m# Encoding\u001b[39;00m\n\u001b[0;32m--> 859\u001b[0m         handle \u001b[38;5;241m=\u001b[39m \u001b[38;5;28mopen\u001b[39m(\n\u001b[1;32m    860\u001b[0m             handle,\n\u001b[1;32m    861\u001b[0m             ioargs\u001b[38;5;241m.\u001b[39mmode,\n\u001b[1;32m    862\u001b[0m             encoding\u001b[38;5;241m=\u001b[39mioargs\u001b[38;5;241m.\u001b[39mencoding,\n\u001b[1;32m    863\u001b[0m             errors\u001b[38;5;241m=\u001b[39merrors,\n\u001b[1;32m    864\u001b[0m             newline\u001b[38;5;241m=\u001b[39m\u001b[38;5;124m\"\u001b[39m\u001b[38;5;124m\"\u001b[39m,\n\u001b[1;32m    865\u001b[0m         )\n\u001b[1;32m    866\u001b[0m     \u001b[38;5;28;01melse\u001b[39;00m:\n\u001b[1;32m    867\u001b[0m         \u001b[38;5;66;03m# Binary mode\u001b[39;00m\n\u001b[1;32m    868\u001b[0m         handle \u001b[38;5;241m=\u001b[39m \u001b[38;5;28mopen\u001b[39m(handle, ioargs\u001b[38;5;241m.\u001b[39mmode)\n",
      "\u001b[0;31mFileNotFoundError\u001b[0m: [Errno 2] No such file or directory: 'stocks.csv'"
     ]
    }
   ],
   "source": [
    "# Module for arrays.\n",
    "import numpy as np\n",
    "# Module for data frames.\n",
    "import pandas as pd\n",
    "\n",
    "# Load stock data as pandas DataFrame.\n",
    "stocks = pd.read_csv(\"stocks.csv\")\n",
    "# Display DataFrame.\n",
    "display(stocks)\n",
    "# Store stock return variable values in a NumPy array.\n",
    "ret = stocks[\"Mkt-RF\"].values"
   ]
  },
  {
   "cell_type": "code",
   "execution_count": null,
   "id": "3e228744",
   "metadata": {},
   "outputs": [
    {
     "name": "stdout",
     "output_type": "stream",
     "text": [
      "[2.96 2.64 0.36 ... 0.35 6.46 3.21]\n"
     ]
    }
   ],
   "source": [
    "# Print the \"ret\" variable.\n",
    "print(ret)"
   ]
  },
  {
   "cell_type": "code",
   "execution_count": null,
   "id": "14336134",
   "metadata": {},
   "outputs": [
    {
     "name": "stdout",
     "output_type": "stream",
     "text": [
      "<class 'numpy.ndarray'>\n"
     ]
    }
   ],
   "source": [
    "# Print the type of the \"ret\" variable.\n",
    "print(type(ret))"
   ]
  },
  {
   "cell_type": "markdown",
   "id": "8b0ee402",
   "metadata": {},
   "source": [
    "## 1 Compute Statistics (manual implementation)\n",
    "**Task:** implement your own functions for these descriptive statistics below. \n",
    "- mean\n",
    "- variance\n",
    "- standard deviation\n",
    "- skewness\n",
    "- kurtosis\n",
    "\n",
    "The functions should be designed to operate on a one-dimensional $\\texttt{ndarray}$. You may use other Scipy and Numpy functions in your implementations.  Apply your functions to the $\\texttt{ret}$ data to test them."
   ]
  },
  {
   "cell_type": "code",
   "execution_count": null,
   "id": "f31d9ecc",
   "metadata": {},
   "outputs": [],
   "source": [
    "# Sample mean. \n",
    "# use len() and np.sum() \n",
    "def my_mean(arr):\n",
    "    return np.sum(arr)/len(arr)"
   ]
  },
  {
   "cell_type": "code",
   "execution_count": null,
   "id": "6fe3386a",
   "metadata": {},
   "outputs": [],
   "source": [
    "# Unbiased sample variance.\n",
    "# use len(), my_mean(), and np.sum() \n",
    "# tip: make a variable for each meaningful term in the formula. makes it easier to debug\n",
    "def my_var(arr):\n",
    "    deviations = np.sum((arr - my_mean(arr))**2)\n",
    "    return (1/(len(arr) - 1)) * deviations\n",
    "    "
   ]
  },
  {
   "cell_type": "code",
   "execution_count": null,
   "id": "f427c9b4",
   "metadata": {},
   "outputs": [],
   "source": [
    "# Sample standard deviation derived from unbiased sample variance.\n",
    "# use np.sqrt() and my_var()\n",
    "def my_std(arr):\n",
    "    return np.sqrt(my_var(arr))"
   ]
  },
  {
   "cell_type": "markdown",
   "id": "a1788883",
   "metadata": {},
   "source": [
    "Let $n$ be the number of samples, $x_1, \\dots, x_n$ be the data, and $\\overline{x}$ be the sample mean. Define the moments\n",
    "$$m_k = \\frac{1}{n} \\sum_i (x_i - \\overline{x})^k.$$\n",
    "\n",
    "The adjusted (unbiased) Fisher-Pearson coefficient of **skewness** is\n",
    "$$\n",
    " \\frac{\\sqrt{n(n-1)}}{n-2} \\frac{m_3}{m_2^{3/2}}.\n",
    "$$\n"
   ]
  },
  {
   "cell_type": "code",
   "execution_count": null,
   "id": "de8fe21b",
   "metadata": {},
   "outputs": [],
   "source": [
    "# Adjusted (unbiased) Fisher-Pearson coefficient of skewness.\n",
    "# See scipy.stats.skew documentation for the formula. Remember to center the data with the mean before using the formula\n",
    "# use len(), my_mean(), np.sum(), np.sqrt()\n",
    "# tip: as before, make variables for each meaningful term\n",
    "def my_skew(arr):\n",
    "    n = len(arr)\n",
    "    m_3 = (1/(len(arr))) * np.sum(np.power(arr - my_mean(arr),3))\n",
    "    m_2 = (1/(len(arr))) * np.sum(np.power(arr - my_mean(arr),2))\n",
    "    expression = (np.sqrt(n*(n-1)) * m_3)/((n-2)*np.power(m_2,3/2))\n",
    "    \n",
    "    return expression"
   ]
  },
  {
   "cell_type": "markdown",
   "id": "ae95e6bf",
   "metadata": {},
   "source": [
    "The unbiased Fisher coefficient of **excess kurtosis** is\n",
    "$$\n",
    " \\frac{n-1}{(n-2)(n-3)} \\left[\\frac{(n+1) m_4}{m_2^2} - 3(n-1)\\right].\n",
    "$$"
   ]
  },
  {
   "cell_type": "code",
   "execution_count": null,
   "id": "ed238689",
   "metadata": {},
   "outputs": [],
   "source": [
    "# Adjusted Fisher coefficient of excess kurtosis.\n",
    "# See \"sample kurtosis > standard unbiased estimator\" in Kurtosis wikipedia page. This lines up with scipy.stats.kurtosis documentation, that unfortunately does not show the formula.\n",
    "# use len(), my_mean(), np.sum()\n",
    "# tip: as before, make variables for each meaningful term\n",
    "def my_kurt(arr):\n",
    "    n = len(arr)\n",
    "    m_4 = (1/(len(arr))) * np.sum(np.power(arr - my_mean(arr),4))\n",
    "    m_2 = (1/(len(arr))) * np.sum(np.power(arr - my_mean(arr),2))\n",
    "    expression = (((n-1)*(n+1))/((n-2)*(n-3))) * (( ((n+1)*m_4)/(np.power(m_2,2)) ) - 3*(n-1))\n",
    "    return expression"
   ]
  },
  {
   "cell_type": "markdown",
   "id": "4168b879",
   "metadata": {},
   "source": [
    "Written for you is the code to print all these results out. \n",
    "- Take some time to understand what each line of code is doing. Presenting numbers with easy-to-read prints will be a helpful skill for your own coding."
   ]
  },
  {
   "cell_type": "code",
   "execution_count": null,
   "id": "eee8f038",
   "metadata": {},
   "outputs": [
    {
     "name": "stdout",
     "output_type": "stream",
     "text": [
      "*** My Functions ***\n",
      "Mean                      0.6785064377682404\n",
      "Variance                  28.564041066324506\n",
      "Standard Deviation        5.344533755747503\n",
      "Skewness                  0.15628277114358533\n",
      "Kurtosis                  8687.147629920362\n"
     ]
    }
   ],
   "source": [
    "# List of labels to print.\n",
    "label = [\"Mean\", \"Variance\", \"Standard Deviation\", \"Skewness\", \"Kurtosis\"]\n",
    "# List of statistics.\n",
    "my_value = [my_mean(ret), my_var(ret), my_std(ret), my_skew(ret), my_kurt(ret)]\n",
    "# Print table.\n",
    "print(\"*** My Functions ***\")\n",
    "for i in range(len(label)):\n",
    "    # Print results in two columns.\n",
    "    # \"{}\" is a placeholder for a string.\n",
    "\n",
    "\n",
    "    # \":\" indicates start of format specification.\n",
    "    # \"<\" indicates left alignment.\n",
    "    # \"25\" indicates field width of 25 characters.\n",
    "    print(\"{:<25} {}\".format(label[i], my_value[i]))"
   ]
  },
  {
   "cell_type": "markdown",
   "id": "c92c1737",
   "metadata": {},
   "source": [
    "## 2 Compare against SciPy and NumPy\n",
    "\n",
    "**Task:** Compute the same quantities using the corresponding SciPy or NumPy functions with default arguments. "
   ]
  },
  {
   "cell_type": "code",
   "execution_count": null,
   "id": "2e7eedcf",
   "metadata": {},
   "outputs": [
    {
     "name": "stdout",
     "output_type": "stream",
     "text": [
      "                          my functions         scipy/numpy         \n",
      "Mean                      0.6785064377682404   0.6785064377682404  \n",
      "Variance                  28.564041066324506   28.564041066324506  \n",
      "Standard Deviation        5.344533755747503    5.342239471994757   \n",
      "Skewness                  0.15628277114358533  0.1560814766802238  \n",
      "Kurtosis                  8687.147629920362    7.413300610425784   \n"
     ]
    }
   ],
   "source": [
    "# The point of this exercise:\n",
    "# There are different definitions of the above statistics.\n",
    "# Some implementations provide parameters that let you choose versions.\n",
    "\n",
    "# Import specific functions from SciPy.\n",
    "from scipy.stats import skew, kurtosis\n",
    "\n",
    "# List of labels.\n",
    "label = [\"Mean\", \"Variance\", \"Standard Deviation\", \"Skewness\", \"Kurtosis\"]\n",
    "# List of statistics.\n",
    "package_value = [np.mean(ret),np.var(ret, ddof=1),np.std(ret),skew(ret),kurtosis(ret)]\n",
    "# Print table.\n",
    "print(\"{:<25} {:<20} {:<20}\".format('', 'my functions', 'scipy/numpy'))\n",
    "for i in range(len(label)):\n",
    "    print(\"{:<25} {:<20} {:<20}\".format(label[i], my_value[i], package_value[i]))"
   ]
  },
  {
   "cell_type": "markdown",
   "id": "8ce4cf55",
   "metadata": {},
   "source": [
    "**Discuss:** Do your functions give different results from those of the numpy/scipy implementations?\n",
    "\n",
    "**Task:** If they are different\n",
    "- is your implementations incorrect, or \n",
    "- can you adjust some parameters of the SciPy or NumPy functions to get the same results as your manual implementations?"
   ]
  },
  {
   "cell_type": "code",
   "execution_count": null,
   "id": "d2798e0e",
   "metadata": {},
   "outputs": [
    {
     "name": "stdout",
     "output_type": "stream",
     "text": [
      "                          my functions         scipy/numpy         \n"
     ]
    },
    {
     "ename": "TypeError",
     "evalue": "'NoneType' object is not subscriptable",
     "output_type": "error",
     "traceback": [
      "\u001b[0;31m---------------------------------------------------------------------------\u001b[0m",
      "\u001b[0;31mTypeError\u001b[0m                                 Traceback (most recent call last)",
      "Cell \u001b[0;32mIn[17], line 12\u001b[0m\n\u001b[1;32m     10\u001b[0m \u001b[38;5;28mprint\u001b[39m(\u001b[38;5;124m\"\u001b[39m\u001b[38;5;132;01m{:<25}\u001b[39;00m\u001b[38;5;124m \u001b[39m\u001b[38;5;132;01m{:<20}\u001b[39;00m\u001b[38;5;124m \u001b[39m\u001b[38;5;132;01m{:<20}\u001b[39;00m\u001b[38;5;124m\"\u001b[39m\u001b[38;5;241m.\u001b[39mformat(\u001b[38;5;124m'\u001b[39m\u001b[38;5;124m'\u001b[39m, \u001b[38;5;124m'\u001b[39m\u001b[38;5;124mmy functions\u001b[39m\u001b[38;5;124m'\u001b[39m, \u001b[38;5;124m'\u001b[39m\u001b[38;5;124mscipy/numpy\u001b[39m\u001b[38;5;124m'\u001b[39m))\n\u001b[1;32m     11\u001b[0m \u001b[38;5;28;01mfor\u001b[39;00m i \u001b[38;5;129;01min\u001b[39;00m \u001b[38;5;28mrange\u001b[39m(\u001b[38;5;28mlen\u001b[39m(label)):\n\u001b[0;32m---> 12\u001b[0m     \u001b[38;5;28mprint\u001b[39m(\u001b[38;5;124m\"\u001b[39m\u001b[38;5;132;01m{:<25}\u001b[39;00m\u001b[38;5;124m \u001b[39m\u001b[38;5;132;01m{:<20}\u001b[39;00m\u001b[38;5;124m \u001b[39m\u001b[38;5;132;01m{:<20}\u001b[39;00m\u001b[38;5;124m\"\u001b[39m\u001b[38;5;241m.\u001b[39mformat(label[i], my_value[i], package_value_adj[i]))\n",
      "\u001b[0;31mTypeError\u001b[0m: 'NoneType' object is not subscriptable"
     ]
    }
   ],
   "source": [
    "# Results differ for variance, standard deviation, skewness, and kurtosis.\n",
    "# This is because the default parameters set the functions to compute alternative versions of the statistics.\n",
    "\n",
    "# We can adjust the parameters to match our versions of the statistics.\n",
    "# Note the extra arguments to the functions.\n",
    "label = [\"Mean\", \"Variance\", \"Standard Deviation\", \"Skewness\", \"Kurtosis\"]\n",
    "package_value_adj = None # TODO\n",
    "\n",
    "# Print table.\n",
    "print(\"{:<25} {:<20} {:<20}\".format('', 'my functions', 'scipy/numpy'))\n",
    "for i in range(len(label)):\n",
    "    print(\"{:<25} {:<20} {:<20}\".format(label[i], my_value[i], package_value_adj[i]))"
   ]
  },
  {
   "cell_type": "markdown",
   "id": "3da9eeb9",
   "metadata": {},
   "source": [
    "## 3 Are stocks normally distributed? Visual comparison.\n",
    "\n",
    "The normal distribution is commonly used to model natural and social phenomena. Investigate whether the hypothesis that stock return is normally distributed is plausible.\n",
    "\n",
    "**Task:**\n",
    "- Use scipy to simulate draws from a normal distribution having \n",
    "    - mean equal to the sample mean of the stock returns and \n",
    "    - standard deviation equal to the sample standard deviation of the stock returns. \n",
    "    - Use a random state of 0, and \n",
    "    - for the number of draws, use the number of stock return observations.\n",
    "- (Done for you) Compare histograms of the simulated data and the actual stock returns. \n",
    "    - **Discuss:** Note how we choose the bins carefully. If you changed the 'bins=mybins' to 'bins=100', what difference do you see?"
   ]
  },
  {
   "cell_type": "code",
   "execution_count": null,
   "id": "4e6e9087",
   "metadata": {
    "scrolled": true
   },
   "outputs": [
    {
     "data": {
      "image/png": "[encoded data removed]",
      "text/plain": [
       "<Figure size 640x480 with 1 Axes>"
      ]
     },
     "metadata": {},
     "output_type": "display_data"
    }
   ],
   "source": [
    "from scipy.stats import norm as gaussian\n",
    "import matplotlib.pyplot as plt\n",
    "\n",
    "n = len(ret)\n",
    "mean = np.mean(ret)\n",
    "std_dev = np.std(ret)\n",
    "\n",
    "sim = gaussian.rvs(loc = mean,scale = std_dev, size = n)\n",
    "\n",
    "_, mybins, _ = plt.hist(ret, bins=100, label=\"Actual Returns\")\n",
    "plt.hist(sim, bins=mybins, alpha=0.66, label=\"Simulated Returns Under Normality\")\n",
    "plt.legend()\n",
    "plt.show()"
   ]
  },
  {
   "cell_type": "code",
   "execution_count": null,
   "id": "a81719d5",
   "metadata": {},
   "outputs": [],
   "source": []
  }
 ],
 "metadata": {
  "kernelspec": {
   "display_name": "base",
   "language": "python",
   "name": "python3"
  },
  "language_info": {
   "codemirror_mode": {
    "name": "ipython",
    "version": 3
   },
   "file_extension": ".py",
   "mimetype": "text/x-python",
   "name": "python",
   "nbconvert_exporter": "python",
   "pygments_lexer": "ipython3",
   "version": "3.11.5"
  },
  "vscode": {
   "interpreter": {
    "hash": "43129c23d79667d987760d8fda822d6cf9b94e4f6ff31aa29025e95d3c53fe91"
   }
  }
 },
 "nbformat": 4,
 "nbformat_minor": 5
}
