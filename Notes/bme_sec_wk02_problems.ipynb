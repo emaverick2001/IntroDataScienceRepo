{
 "cells": [
  {
   "cell_type": "markdown",
   "id": "e505065c",
   "metadata": {},
   "source": [
    "# 1 Descriptive Statistics"
   ]
  },
  {
   "cell_type": "markdown",
   "id": "640b194e",
   "metadata": {},
   "source": [
    "## 1.1\n",
    "In the following section an Excel file containing mortality rate associated with the hypertensive heart disease in the United States across different age groups and sexes will be processed (Data was downloaded from WHO website). We will extract total mortality rate per year for male (1951 - 2019) and female (1951 - 2019) populations separately.   \n",
    "\n",
    "You should download the \"Mortality_Hypertension_America.xlsx\" file from canvas."
   ]
  },
  {
   "cell_type": "code",
   "execution_count": 2,
   "id": "3a04ffa7",
   "metadata": {},
   "outputs": [],
   "source": [
    "import numpy as np\n",
    "import pandas as pd\n",
    "from scipy.stats import skew, kurtosis\n",
    "\n",
    "myData = np.array(pd.read_excel('Mortality_Hypertension_America.xlsx'))\n",
    "\n",
    "# Extraxt total mortality for male population into a two dimensional array. \n",
    "# column 0: year, colomn 1: gender ('Male', column 2: yearly mortality\n",
    "M = np.array([row[[1,2,5]] for row in myData if row[2] == 'Male' and row[3] == 'Age_all'])\n",
    "\n",
    "# Extraxt total mortality for female population into a two dimensional array. \n",
    "# column 0: year, colomn 1: gender ('Female', column 2: yearly mortality\n",
    "F = np.array([row[[1,2,5]] for row in myData if row[2] == 'Female' and row[3] == 'Age_all'])\n",
    "F = F[1:,:] # Make sure data starts from year 1951"
   ]
  },
  {
   "cell_type": "markdown",
   "id": "4066c4ed",
   "metadata": {},
   "source": [
    "## 1.2\n",
    "\n",
    "Write your own python code to calculate the following sample statistics for the yearly mortality for the male poulation and print your result to the screen:\n",
    "\n",
    "- Mean\n",
    "- Variance\n",
    "- Standard deviation\n",
    "- Skewness\n",
    "- Kurtosis\n",
    "- Quantiles (First , median, and tird quartiles)"
   ]
  },
  {
   "cell_type": "code",
   "execution_count": null,
   "id": "489c3434",
   "metadata": {},
   "outputs": [],
   "source": [
    "# Sample mean.\n",
    "def my_mean(arr):\n",
    "    return \n",
    "\n",
    "# Unbiased sample variance.\n",
    "def my_var(arr):\n",
    "    return \n",
    "\n",
    "# Sample standard deviation derived from unbiased sample variance.\n",
    "def my_std(arr):\n",
    "    return \n",
    "\n",
    "# Adjusted Fisher-Pearson coefficient of skewness.\n",
    "def my_skew(arr):\n",
    "    return \n",
    "\n",
    "# Adjusted Fisher coefficient of kurtosis.\n",
    "def my_kurt(arr):\n",
    "    return \n",
    "\n",
    "# Implementation of the default method of the NumPy function.\n",
    "# See the documentation for more detail.\n",
    "# q: Quantile to compute. Decimal number in [0,1).\n",
    "def my_quant(arr, q):\n",
    "    return None\n",
    "\n",
    "# List of labels to print.\n",
    "label = [\"Mean\", \"Variance\", \"Standard Deviation\", \"Skewness\", \"Kurtosis\", \"First Quartile\", \"Median\", \"Third Quartile\"]\n",
    "# List of statistics.\n",
    "value = [my_mean(ret), my_var(ret), my_std(ret), my_skew(ret), my_kurt(ret), my_quant(ret, 0.25), my_quant(ret, 0.50), my_quant(ret, 0.75)]\n",
    "# Print table.\n",
    "print(\"***My Functions***\")\n",
    "for i in range(len(label)):\n",
    "    # Print results in two columns.\n",
    "    # \"{}\" is a placeholder for a string.\n",
    "    # \":\" indicates start of format specification.\n",
    "    # \"<\" indicates left alignment.\n",
    "    # \"25\" indicates field width of 25 characters.\n",
    "    print(\"{:<25} {}\".format(label[i], value[i]))"
   ]
  },
  {
   "cell_type": "markdown",
   "id": "e867e663",
   "metadata": {},
   "source": [
    "## 1.3\n",
    "\n",
    "Use packages such as numpy and scipy to calculate the sample statistics for the male population. Are the results consistent with your calculation?"
   ]
  },
  {
   "cell_type": "code",
   "execution_count": null,
   "id": "750dcd82",
   "metadata": {},
   "outputs": [],
   "source": []
  },
  {
   "cell_type": "markdown",
   "id": "0968eeb5",
   "metadata": {},
   "source": [
    "# 2 Normal distribution"
   ]
  },
  {
   "cell_type": "markdown",
   "id": "fc7550f8",
   "metadata": {},
   "source": [
    "## 2.1 Box Plot\n",
    "\n",
    "Statistical data analysis often uses models that assume sample data variable follows a Gaussian (normal) distribution. There are several qualitative (visualization) and quantitative methods that can be used to examine data to determine if a variable has a distribution close to the normal distribution. \n",
    "\n",
    "The Box Plot is a visualization method that can be used to detect if sample is not following a normal distribution. The box plot in matplotlib libary diplays the following summary statistics for the sample data:\n",
    "\n",
    "- First qurtile - 1.5 * IQR (Inter Quartile Range)\n",
    "- First quartile (Q1)\n",
    "- Median\n",
    "- Third quartile (Q3)\n",
    "- Third qurtile + 1.5 * IQR (Inter Quartile Range)\n",
    "\n",
    "Here : $IQR = Q3 - Q1$\n",
    "\n",
    "- Generate two random samples with normal distribution each contain 300 samples: \n",
    "\n",
    "    1. $\\mathcal{N}(70,40)$\n",
    "    2. $\\mathcal{N}(100,10)$\n",
    "\n",
    "- Generate box plots of these sample and compare them. (use random seed of 0)"
   ]
  },
  {
   "cell_type": "code",
   "execution_count": null,
   "id": "f246d601",
   "metadata": {},
   "outputs": [],
   "source": []
  },
  {
   "cell_type": "markdown",
   "id": "508120ef",
   "metadata": {},
   "source": [
    "Perform box plot on the male and female sample data. What can you learn from these plots?"
   ]
  },
  {
   "cell_type": "code",
   "execution_count": null,
   "id": "91d2872e",
   "metadata": {},
   "outputs": [],
   "source": []
  },
  {
   "cell_type": "markdown",
   "id": "1462ef50",
   "metadata": {},
   "source": [
    "To get a better comparison of your data, standardize your data to have zero mean and unit standard deviation. Use the box plot to illustrates the results for both male and female samples.\n"
   ]
  },
  {
   "cell_type": "code",
   "execution_count": null,
   "id": "a6973c0a",
   "metadata": {},
   "outputs": [],
   "source": []
  },
  {
   "cell_type": "markdown",
   "id": "e12d4a36",
   "metadata": {},
   "source": [
    "## 2.2 Violin Plot\n",
    "\n",
    "Violin plots provide additional information by adding a density trace. Use the mortality values for male and female samples and draw a side-by-side plot of violin and box plot. How do you interpret your result?"
   ]
  },
  {
   "cell_type": "code",
   "execution_count": null,
   "id": "92062ce5",
   "metadata": {},
   "outputs": [],
   "source": []
  },
  {
   "cell_type": "markdown",
   "id": "6d9bb52a",
   "metadata": {},
   "source": [
    "## 2.3 Q-Q plot\n",
    "\n",
    "Q-Q plot or quantile-quantile plot is another visualization tool to determine if a set of random data is initiated from some pre-difeind theoritical distribution (Ex. normal distribution). In python, we could use **probplot** method from scipy.stats to generate Q-Q plots. \n",
    "\n",
    "- First generate Q-Q plot for a $\\mathcal{N}(50,10)$ distribution by using 1000 sample. (Use a seed value of zero). \n",
    "- Then generate Q-Q plot for male and female mortality samples. Make sure to standardized your data first.\n",
    "\n",
    "How do you interpret your result?"
   ]
  },
  {
   "cell_type": "code",
   "execution_count": null,
   "id": "8a9a3ebb",
   "metadata": {},
   "outputs": [],
   "source": []
  }
 ],
 "metadata": {
  "kernelspec": {
   "display_name": "Python 3.9.13 ('ids_week2')",
   "language": "python",
   "name": "python3"
  },
  "language_info": {
   "codemirror_mode": {
    "name": "ipython",
    "version": 3
   },
   "file_extension": ".py",
   "mimetype": "text/x-python",
   "name": "python",
   "nbconvert_exporter": "python",
   "pygments_lexer": "ipython3",
   "version": "3.9.13"
  },
  "vscode": {
   "interpreter": {
    "hash": "f80e87ea072fafb86f600380a90127d7b7efa71379512b26f0e932690c855bd4"
   }
  }
 },
 "nbformat": 4,
 "nbformat_minor": 5
}
